{
 "cells": [
  {
   "cell_type": "markdown",
   "metadata": {},
   "source": [
    "# Example Notebook: Playing with ConnectN Environment\n",
    "\n",
    "This notebook demonstrates how to use the `ConnectN` and `ConnectNOnePlayer` environments.\n",
    "We will simulate the gameplay for both a two-player version and a one-player version where you face an AI opponent.\n",
    "We'll visualize the gameplay step by step, showing how the environment behaves with random actions."
   ]
  },
  {
   "cell_type": "code",
   "execution_count": 6,
   "metadata": {},
   "outputs": [],
   "source": [
    "# Import necessary libraries\n",
    "import gymnasium as gym\n",
    "import numpy as np\n",
    "from matplotlib import pyplot as plt\n",
    "\n",
    "# Import custom ConnectN environments\n",
    "from connect_n.env import ConnectN, ConnectNOnePlayer"
   ]
  },
  {
   "cell_type": "markdown",
   "metadata": {},
   "source": [
    "## 1. Two-Player ConnectN Environment\n",
    "\n",
    "In this section, we will initialize the `ConnectN` environment where two players take turns. \n",
    "For simplicity, we will use a random agent for both players and visualize the board after each move."
   ]
  },
  {
   "cell_type": "code",
   "execution_count": 16,
   "metadata": {},
   "outputs": [],
   "source": [
    "# Initialize the ConnectN environment\n",
    "env = ConnectN(render_mode=\"human\")\n",
    "\n",
    "# Reset the environment to start a new game\n",
    "state = env.reset()\n",
    "\n",
    "# ### Initial Game Board\n",
    "# The game starts with an empty board. Let's display it before the game begins.\n",
    "fig, ax = env.render()\n",
    "ax.set_title(\"Initial Game Board (Two-Player ConnectN)\")\n",
    "plt.show()"
   ]
  },
  {
   "cell_type": "markdown",
   "metadata": {},
   "source": [
    "### Simulating a Two-Player Game with Random Actions\n",
    "Now, we will simulate 10 steps of the game with random moves from both players.\n",
    "We will visualize the board after each step to track the game progress.\n"
   ]
  },
  {
   "cell_type": "code",
   "execution_count": 17,
   "metadata": {},
   "outputs": [],
   "source": [
    "done = False  # Variable to track whether the game has ended\n",
    "\n",
    "while not done :  # Limit the loop to 10 steps or until the game is over\n",
    "    action = env.action_space.sample()  # Choose a random action (a column to drop the piece)\n",
    "    state, reward, terminated, truncated, info = env.step(action)  # Take a step in the game\n",
    "    \n",
    "    # ### Visualizing the Game Board After Each Move\n",
    "    # After each move, we will display the current state of the board.\n",
    "    fig, ax = env.render()\n",
    "    ax.set_title(f\"Step {env.get_step_counter() + 1}: Action {action}\")\n",
    "    plt.show()\n",
    "    \n",
    "    # Check if the game has ended\n",
    "    done = terminated or truncated"
   ]
  },
  {
   "cell_type": "markdown",
   "metadata": {},
   "source": [
    "## 2. One-Player ConnectN Environment (vs AI Engine)\n",
    "\n",
    "In this section, we will initialize the `ConnectNOnePlayer` environment where the player competes against an AI opponent. \n",
    "We use the `RandomEngine` as the AI, meaning the AI will make random moves. \n",
    "The player will also make random moves, and we will visualize each turn."
   ]
  },
  {
   "cell_type": "code",
   "execution_count": 9,
   "metadata": {},
   "outputs": [],
   "source": [
    "# Initialize the one-player environment where the opponent is controlled by an AI engine (RandomEngine)\n",
    "one_player_env = ConnectNOnePlayer(render_mode=\"human\")\n",
    "\n"
   ]
  },
  {
   "cell_type": "markdown",
   "metadata": {},
   "source": [
    "### Resetting the Environment\n",
    "We start a new game and specify that the human player moves first.\n",
    "The AI will play after the human move."
   ]
  },
  {
   "cell_type": "code",
   "execution_count": 10,
   "metadata": {},
   "outputs": [],
   "source": [
    "state = one_player_env.reset(first_player=1)"
   ]
  },
  {
   "cell_type": "markdown",
   "metadata": {},
   "source": [
    "### Initial Game Board (One-Player)\n",
    "Just like in the two-player mode, the game starts with an empty board. Let's display it."
   ]
  },
  {
   "cell_type": "code",
   "execution_count": 15,
   "metadata": {},
   "outputs": [],
   "source": [
    "fig, ax = one_player_env.render()\n",
    "ax.set_title(\"Initial Game Board (One-Player vs AI)\")\n",
    "plt.show()"
   ]
  },
  {
   "cell_type": "markdown",
   "metadata": {},
   "source": [
    "### Simulating a One-Player Game vs AI\n",
    "Similar to the two-player game, we will simulate 10 steps of the game.\n",
    "The human player makes the first move, followed by the AI, and we visualize the board after each turn.\n"
   ]
  },
  {
   "cell_type": "code",
   "execution_count": 14,
   "metadata": {},
   "outputs": [],
   "source": [
    "done = False  # Variable to track whether the game has ended\n",
    "\n",
    "while not done:  # Limit the loop to 10 steps or until the game is over\n",
    "    # Human player makes a random move\n",
    "    action = one_player_env.action_space.sample()  \n",
    "    state, reward, terminated, truncated, info = one_player_env.step(action)  # Take the player's step\n",
    "    \n",
    "    # ### Visualizing the Board After Each Move\n",
    "    # After each step (player and AI), we display the current state of the board.\n",
    "    fig, ax = one_player_env.render()\n",
    "    ax.set_title(f\"Step {one_player_env.get_step_counter()}: Player Action {action}\")\n",
    "    plt.show()\n",
    "    \n",
    "    # Check if the game has ended\n",
    "    done = terminated or truncated\n"
   ]
  }
 ],
 "metadata": {
  "kernelspec": {
   "display_name": "MARL-F",
   "language": "python",
   "name": "python3"
  },
  "language_info": {
   "codemirror_mode": {
    "name": "ipython",
    "version": 3
   },
   "file_extension": ".py",
   "mimetype": "text/x-python",
   "name": "python",
   "nbconvert_exporter": "python",
   "pygments_lexer": "ipython3",
   "version": "3.12.4"
  }
 },
 "nbformat": 4,
 "nbformat_minor": 2
}
