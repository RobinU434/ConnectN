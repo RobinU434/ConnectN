{
 "cells": [
  {
   "cell_type": "code",
   "execution_count": 2,
   "metadata": {},
   "outputs": [],
   "source": [
    "from connect_n.env import ConnectN\n",
    "from gymnasium.spaces import MultiDiscrete\n",
    "\n",
    "env = ConnectN(render_mode=\"rgb_array\")"
   ]
  },
  {
   "cell_type": "code",
   "execution_count": 3,
   "metadata": {},
   "outputs": [
    {
     "data": {
      "image/png": "[encoded data removed]",
      "text/plain": [
       "<Figure size 640x480 with 1 Axes>"
      ]
     },
     "metadata": {},
     "output_type": "display_data"
    }
   ],
   "source": [
    "env.step(0)\n",
    "env.step(4)\n",
    "env.step(1)\n",
    "env.step(0)\n",
    "env.render()\n",
    "None"
   ]
  },
  {
   "cell_type": "code",
   "execution_count": 3,
   "metadata": {},
   "outputs": [],
   "source": [
    "from abc import ABC\n",
    "\n",
    "from gymnasium import Env\n",
    "import numpy as np\n",
    "\n",
    "\n",
    "class Agent(ABC):\n",
    "    def __init__(self, env: Env):\n",
    "        super().__init__()\n",
    "        self._env = env\n",
    "\n",
    "    def predict(self, state: np.ndarray):\n",
    "        raise NotImplementedError\n",
    "    \n",
    "    def learn(self):\n",
    "        raise NotImplementedError\n",
    "    \n",
    "    def train(self):\n",
    "        raise NotImplementedError\n",
    "    \n",
    "    def add_to_memory(self, state, action, reward, next_state, done):\n",
    "        # required to implemented only if the algorithms needs to do so\n",
    "        pass\n",
    "    \n",
    "    \n",
    "\n",
    "\n",
    "class RandomAgent(Agent):\n",
    "    def __init__(self, env):\n",
    "        super().__init__(env)\n",
    "\n",
    "    def predict(self, state):\n",
    "        return self._env.action_space.sample()\n",
    "    \n",
    "    def train(self):\n",
    "        pass\n",
    "\n",
    "    def learn(self):\n",
    "        pass"
   ]
  },
  {
   "cell_type": "code",
   "execution_count": 4,
   "metadata": {},
   "outputs": [],
   "source": [
    "from typing import List\n",
    "from gymnasium import Env\n",
    "from tqdm import tqdm\n",
    "\n",
    "class DuelTrainer:\n",
    "    def __init__(self, env: Env, agents: List[Agent]):\n",
    "        self._agents = agents\n",
    "        self._env = env\n",
    "\n",
    "    def train(self, episodes: int):\n",
    "        for _ in tqdm(range(episodes)):\n",
    "            state = self._env.reset()\n",
    "            done = False\n",
    "\n",
    "            while not done:\n",
    "                for agent in self._agents:\n",
    "                    action = agent.predict(state)\n",
    "                    next_state, reward, terminated, truncated, _ = self._env.step(action)\n",
    "                    done = terminated or truncated\n",
    "                    agent.add_to_memory(state, action, reward, next_state, done)\n",
    "\n",
    "                    if done:\n",
    "                        break\n",
    "                    \n",
    "                    state = next_state\n",
    "                \n",
    "            for agent in self._agents:\n",
    "                agent.train()\n"
   ]
  },
  {
   "cell_type": "code",
   "execution_count": 5,
   "metadata": {},
   "outputs": [
    {
     "name": "stderr",
     "output_type": "stream",
     "text": [
      "100%|██████████| 10/10 [00:00<00:00, 247.01it/s]\n"
     ]
    }
   ],
   "source": [
    "duel = DuelTrainer(ConnectFour(), [RandomAgent(env), RandomAgent(env)])\n",
    "\n",
    "duel.train(10)"
   ]
  }
 ],
 "metadata": {
  "kernelspec": {
   "display_name": "MARL-F",
   "language": "python",
   "name": "python3"
  },
  "language_info": {
   "codemirror_mode": {
    "name": "ipython",
    "version": 3
   },
   "file_extension": ".py",
   "mimetype": "text/x-python",
   "name": "python",
   "nbconvert_exporter": "python",
   "pygments_lexer": "ipython3",
   "version": "3.12.4"
  }
 },
 "nbformat": 4,
 "nbformat_minor": 2
}
